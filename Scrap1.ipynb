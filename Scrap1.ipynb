{
 "cells": [
  {
   "cell_type": "code",
   "execution_count": 1,
   "metadata": {},
   "outputs": [],
   "source": [
    "import pandas as pd\n",
    "import requests\n",
    "from urllib.request import urlopen\n",
    "from bs4 import BeautifulSoup"
   ]
  },
  {
   "cell_type": "code",
   "execution_count": 2,
   "metadata": {},
   "outputs": [],
   "source": [
    "url = \"https://www.newegg.com/Video-Cards-Video-Devices/Category/ID-38?Tpk=graphics%20card\""
   ]
  },
  {
   "cell_type": "code",
   "execution_count": 3,
   "metadata": {},
   "outputs": [
    {
     "data": {
      "text/plain": [
       "<http.client.HTTPResponse at 0x186778b0f28>"
      ]
     },
     "execution_count": 3,
     "metadata": {},
     "output_type": "execute_result"
    }
   ],
   "source": [
    "client = urlopen(url)\n",
    "client"
   ]
  },
  {
   "cell_type": "code",
   "execution_count": 4,
   "metadata": {},
   "outputs": [],
   "source": [
    "#Extracting page data\n",
    "page_html = client.read()\n",
    "client.close()"
   ]
  },
  {
   "cell_type": "code",
   "execution_count": 5,
   "metadata": {},
   "outputs": [],
   "source": [
    "#Parsing\n",
    "soup = BeautifulSoup(page_html, 'html.parser')"
   ]
  },
  {
   "cell_type": "code",
   "execution_count": 6,
   "metadata": {},
   "outputs": [],
   "source": [
    "containers = soup.findAll(\"div\", {'class' : 'item-container'})"
   ]
  },
  {
   "cell_type": "code",
   "execution_count": 7,
   "metadata": {},
   "outputs": [
    {
     "data": {
      "text/plain": [
       "<div class=\"item-container\"><a class=\"item-img\" href=\"https://www.newegg.com/msi-geforce-rtx-3080-ti-rtx-3080-ti-ventus-3x-12g/p/N82E16814137656?Item=N82E16814137656\"><img alt=\"MSI Ventus GeForce RTX 3080 Ti 12GB GDDR6X PCI Express 4.0 x16 ATX Video Card RTX 3080 Ti VENTUS 3X 12G\" src=\"https://c1.neweggimages.com/ProductImageCompressAll300/14-137-656-V01.jpg\" title=\"MSI Ventus GeForce RTX 3080 Ti 12GB GDDR6X PCI Express 4.0 x16 ATX Video Card RTX 3080 Ti VENTUS 3X 12G\"/></a><div class=\"item-info\"><div class=\"item-branding\"><a class=\"item-brand\" href=\"https://www.newegg.com/MSI/BrandStore/ID-1312\"><img alt=\"MSI\" src=\"https://c1.neweggimages.com/Brandimage_70x28/Brand1312.gif\" title=\"MSI\"/></a></div><a class=\"item-title\" href=\"https://www.newegg.com/msi-geforce-rtx-3080-ti-rtx-3080-ti-ventus-3x-12g/p/N82E16814137656?Item=N82E16814137656\" title=\"View Details\">MSI Ventus GeForce RTX 3080 Ti Video Card RTX 3080 Ti VENTUS 3X 12G</a><p class=\"item-promo\"><i class=\"item-promo-icon\"></i>OUT OF STOCK</p><ul class=\"item-features\"><li><strong>Max Resolution:</strong> 7680 x 4320</li><li><strong>DisplayPort:</strong> 3 x DisplayPort 1.4a</li><li><strong>HDMI:</strong> 1 x HDMI 2.1</li><li><strong>Card Dimensions (L x H):</strong> 12.01\" x 4.72\"</li><li><strong>Model #: </strong>RTX3080TiVENTUS3X12G</li><li><strong>Item #: </strong>N82E16814137656</li><li><strong>Return Policy: </strong><a href=\"https://kb.newegg.com/Article/Index/12/3?id=1167#80\" target=\"_blank\" title=\"Replacement Only Return Policy(New Window)\">Replacement Only Return Policy</a></li></ul></div><div class=\"item-action\"><ul class=\"price\"><li class=\"price-was\"></li><li class=\"price-map\"> </li><li class=\"price-current\"><span class=\"price-current-label\"></span>$<strong>1,199</strong><sup>.99</sup> <span class=\"price-current-range\"><abbr title=\"to\">–</abbr></span></li><li class=\"price-save\"></li><li class=\"price-ship\">$9.99 Shipping</li></ul><div class=\"item-operate hidden-action-button\"><div class=\"item-button-area\"><button class=\"btn btn-mini\" title=\"View Details \">View Details <i class=\"fas fa-caret-right\"></i></button></div><div class=\"item-compare-box\"><label class=\"form-checkbox\"><input autocomplete=\"off\" type=\"checkbox\"/><span class=\"form-checkbox-title\">Compare</span></label></div></div></div><div class=\"item-stock\" id=\"stock_14-137-656\"></div></div>"
      ]
     },
     "execution_count": 7,
     "metadata": {},
     "output_type": "execute_result"
    }
   ],
   "source": [
    "containers[3]"
   ]
  },
  {
   "cell_type": "code",
   "execution_count": 8,
   "metadata": {},
   "outputs": [
    {
     "data": {
      "text/plain": [
       "21"
      ]
     },
     "execution_count": 8,
     "metadata": {},
     "output_type": "execute_result"
    }
   ],
   "source": [
    "fobj = open('products.csv', \"w\")\n",
    "headers = \"company,product_name\\n\"\n",
    "fobj.write(headers)"
   ]
  },
  {
   "cell_type": "code",
   "execution_count": 11,
   "metadata": {},
   "outputs": [],
   "source": [
    "clist = []\n",
    "prolist = []\n",
    "for i in containers:\n",
    "    cmp = i.div.div.a.img['title']\n",
    "    clist.append(cmp)\n",
    "    data = i.findAll(\"a\", {'class' : 'item-title'})\n",
    "    pname = data[0].text\n",
    "    prolist.append(pname)\n",
    "    \n",
    "    fobj.write(cmp+\",\"+pname.replace(',', '|')+\"\\n\")\n",
    "    \n",
    "fobj.close()"
   ]
  },
  {
   "cell_type": "code",
   "execution_count": 12,
   "metadata": {},
   "outputs": [
    {
     "data": {
      "text/html": [
       "<div>\n",
       "<style scoped>\n",
       "    .dataframe tbody tr th:only-of-type {\n",
       "        vertical-align: middle;\n",
       "    }\n",
       "\n",
       "    .dataframe tbody tr th {\n",
       "        vertical-align: top;\n",
       "    }\n",
       "\n",
       "    .dataframe thead th {\n",
       "        text-align: right;\n",
       "    }\n",
       "</style>\n",
       "<table border=\"1\" class=\"dataframe\">\n",
       "  <thead>\n",
       "    <tr style=\"text-align: right;\">\n",
       "      <th></th>\n",
       "      <th>company</th>\n",
       "      <th>product_name</th>\n",
       "    </tr>\n",
       "  </thead>\n",
       "  <tbody>\n",
       "    <tr>\n",
       "      <th>0</th>\n",
       "      <td>ASUS</td>\n",
       "      <td>ASUS TUF Gaming GeForce RTX 3080 Ti Video Card...</td>\n",
       "    </tr>\n",
       "    <tr>\n",
       "      <th>1</th>\n",
       "      <td>EVGA</td>\n",
       "      <td>EVGA GeForce RTX 3080 Ti XC3 ULTRA GAMING Vide...</td>\n",
       "    </tr>\n",
       "    <tr>\n",
       "      <th>2</th>\n",
       "      <td>GIGABYTE</td>\n",
       "      <td>GIGABYTE Eagle GeForce RTX 3080 Ti Video Card ...</td>\n",
       "    </tr>\n",
       "    <tr>\n",
       "      <th>3</th>\n",
       "      <td>MSI</td>\n",
       "      <td>MSI Ventus GeForce RTX 3080 Ti Video Card RTX ...</td>\n",
       "    </tr>\n",
       "    <tr>\n",
       "      <th>4</th>\n",
       "      <td>ZOTAC</td>\n",
       "      <td>ZOTAC Trinity GeForce RTX 3080 Ti Video Card Z...</td>\n",
       "    </tr>\n",
       "    <tr>\n",
       "      <th>5</th>\n",
       "      <td>EVGA</td>\n",
       "      <td>EVGA GeForce RTX 3080 Ti FTW3 ULTRA GAMING Vid...</td>\n",
       "    </tr>\n",
       "    <tr>\n",
       "      <th>6</th>\n",
       "      <td>GIGABYTE</td>\n",
       "      <td>GIGABYTE Gaming GeForce RTX 3080 Ti Video Card...</td>\n",
       "    </tr>\n",
       "    <tr>\n",
       "      <th>7</th>\n",
       "      <td>GIGABYTE</td>\n",
       "      <td>GIGABYTE Vision GeForce RTX 3080 Ti Video Card...</td>\n",
       "    </tr>\n",
       "    <tr>\n",
       "      <th>8</th>\n",
       "      <td>MSI</td>\n",
       "      <td>MSI Gaming GeForce RTX 3080 Ti Video Card RTX ...</td>\n",
       "    </tr>\n",
       "    <tr>\n",
       "      <th>9</th>\n",
       "      <td>MSI</td>\n",
       "      <td>MSI Ventus GeForce RTX 3080 Ti Video Card RTX ...</td>\n",
       "    </tr>\n",
       "    <tr>\n",
       "      <th>10</th>\n",
       "      <td>EVGA</td>\n",
       "      <td>EVGA GeForce RTX 3080 Ti XC3 GAMING Video Card...</td>\n",
       "    </tr>\n",
       "    <tr>\n",
       "      <th>11</th>\n",
       "      <td>GIGABYTE</td>\n",
       "      <td>GIGABYTE Eagle GeForce RTX 3080 Ti Video Card ...</td>\n",
       "    </tr>\n",
       "  </tbody>\n",
       "</table>\n",
       "</div>"
      ],
      "text/plain": [
       "     company                                       product_name\n",
       "0       ASUS  ASUS TUF Gaming GeForce RTX 3080 Ti Video Card...\n",
       "1       EVGA  EVGA GeForce RTX 3080 Ti XC3 ULTRA GAMING Vide...\n",
       "2   GIGABYTE  GIGABYTE Eagle GeForce RTX 3080 Ti Video Card ...\n",
       "3        MSI  MSI Ventus GeForce RTX 3080 Ti Video Card RTX ...\n",
       "4      ZOTAC  ZOTAC Trinity GeForce RTX 3080 Ti Video Card Z...\n",
       "5       EVGA  EVGA GeForce RTX 3080 Ti FTW3 ULTRA GAMING Vid...\n",
       "6   GIGABYTE  GIGABYTE Gaming GeForce RTX 3080 Ti Video Card...\n",
       "7   GIGABYTE  GIGABYTE Vision GeForce RTX 3080 Ti Video Card...\n",
       "8        MSI  MSI Gaming GeForce RTX 3080 Ti Video Card RTX ...\n",
       "9        MSI  MSI Ventus GeForce RTX 3080 Ti Video Card RTX ...\n",
       "10      EVGA  EVGA GeForce RTX 3080 Ti XC3 GAMING Video Card...\n",
       "11  GIGABYTE  GIGABYTE Eagle GeForce RTX 3080 Ti Video Card ..."
      ]
     },
     "execution_count": 12,
     "metadata": {},
     "output_type": "execute_result"
    }
   ],
   "source": [
    "pd.DataFrame({\n",
    "    'company' : clist,\n",
    "    'product_name' : prolist\n",
    "})"
   ]
  },
  {
   "cell_type": "code",
   "execution_count": null,
   "metadata": {},
   "outputs": [],
   "source": []
  }
 ],
 "metadata": {
  "kernelspec": {
   "display_name": "Python 3",
   "language": "python",
   "name": "python3"
  },
  "language_info": {
   "codemirror_mode": {
    "name": "ipython",
    "version": 3
   },
   "file_extension": ".py",
   "mimetype": "text/x-python",
   "name": "python",
   "nbconvert_exporter": "python",
   "pygments_lexer": "ipython3",
   "version": "3.8.8"
  }
 },
 "nbformat": 4,
 "nbformat_minor": 2
}
